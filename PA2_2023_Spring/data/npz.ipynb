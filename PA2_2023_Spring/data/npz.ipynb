{
 "cells": [
  {
   "cell_type": "code",
   "execution_count": 1,
   "id": "78322e0a-d636-41d7-a006-2938fbbde90e",
   "metadata": {},
   "outputs": [],
   "source": [
    "import numpy as np\n",
    "import cv2 as cv\n",
    "import matplotlib.pyplot as plt\n"
   ]
  },
  {
   "cell_type": "code",
   "execution_count": 3,
   "id": "07a47f4b-f151-4980-9f70-74a4926f3f95",
   "metadata": {},
   "outputs": [],
   "source": [
    "data = np.load('temple_coords.npz',allow_pickle=True)\n"
   ]
  },
  {
   "cell_type": "code",
   "execution_count": 5,
   "id": "5b3f94fe-60ed-49b3-b6f5-5d29b51cf035",
   "metadata": {},
   "outputs": [
    {
     "data": {
      "text/plain": [
       "['pts1']"
      ]
     },
     "execution_count": 5,
     "metadata": {},
     "output_type": "execute_result"
    }
   ],
   "source": [
    "list(data.keys())\n"
   ]
  },
  {
   "cell_type": "code",
   "execution_count": 30,
   "id": "94315296-7d2a-4691-a7fa-d741d67eff86",
   "metadata": {},
   "outputs": [
    {
     "ename": "KeyError",
     "evalue": "'some_corresp is not a file in the archive'",
     "output_type": "error",
     "traceback": [
      "\u001b[0;31m---------------------------------------------------------------------------\u001b[0m",
      "\u001b[0;31mKeyError\u001b[0m                                  Traceback (most recent call last)",
      "Cell \u001b[0;32mIn[30], line 1\u001b[0m\n\u001b[0;32m----> 1\u001b[0m \u001b[43mdata\u001b[49m\u001b[43m[\u001b[49m\u001b[38;5;124;43m'\u001b[39;49m\u001b[38;5;124;43msome_corresp\u001b[39;49m\u001b[38;5;124;43m'\u001b[39;49m\u001b[43m]\u001b[49m\u001b[38;5;241m.\u001b[39mshape\n",
      "File \u001b[0;32m~/miniconda3/envs/dev/lib/python3.9/site-packages/numpy/lib/npyio.py:260\u001b[0m, in \u001b[0;36mNpzFile.__getitem__\u001b[0;34m(self, key)\u001b[0m\n\u001b[1;32m    258\u001b[0m         \u001b[38;5;28;01mreturn\u001b[39;00m \u001b[38;5;28mself\u001b[39m\u001b[38;5;241m.\u001b[39mzip\u001b[38;5;241m.\u001b[39mread(key)\n\u001b[1;32m    259\u001b[0m \u001b[38;5;28;01melse\u001b[39;00m:\n\u001b[0;32m--> 260\u001b[0m     \u001b[38;5;28;01mraise\u001b[39;00m \u001b[38;5;167;01mKeyError\u001b[39;00m(\u001b[38;5;124m\"\u001b[39m\u001b[38;5;132;01m%s\u001b[39;00m\u001b[38;5;124m is not a file in the archive\u001b[39m\u001b[38;5;124m\"\u001b[39m \u001b[38;5;241m%\u001b[39m key)\n",
      "\u001b[0;31mKeyError\u001b[0m: 'some_corresp is not a file in the archive'"
     ]
    }
   ],
   "source": [
    "data['some_corresp'].shape"
   ]
  },
  {
   "cell_type": "code",
   "execution_count": 29,
   "id": "6ea955a2-31c7-4a23-8324-84ed8c3dc091",
   "metadata": {},
   "outputs": [
    {
     "data": {
      "text/plain": [
       "(30, 2)"
      ]
     },
     "execution_count": 29,
     "metadata": {},
     "output_type": "execute_result"
    }
   ],
   "source": [
    "data['x'].shape"
   ]
  },
  {
   "cell_type": "code",
   "execution_count": 22,
   "id": "5a348bcd-9808-437d-a7b4-5bcdff7253e6",
   "metadata": {},
   "outputs": [
    {
     "data": {
      "text/plain": [
       "array([[[  0,  98, 209],\n",
       "        [  1,  99, 210],\n",
       "        [  2, 100, 211],\n",
       "        ...,\n",
       "        [ 26, 120, 216],\n",
       "        [ 30, 118, 216],\n",
       "        [ 29, 117, 217]],\n",
       "\n",
       "       [[  2, 100, 211],\n",
       "        [  1,  99, 210],\n",
       "        [  2, 100, 211],\n",
       "        ...,\n",
       "        [ 36, 115, 216],\n",
       "        [ 32, 118, 217],\n",
       "        [ 31, 119, 217]],\n",
       "\n",
       "       [[  2, 100, 211],\n",
       "        [  1,  99, 210],\n",
       "        [  2, 100, 211],\n",
       "        ...,\n",
       "        [ 34, 118, 217],\n",
       "        [ 37, 115, 216],\n",
       "        [ 37, 115, 216]],\n",
       "\n",
       "       ...,\n",
       "\n",
       "       [[  3, 119, 222],\n",
       "        [ 10, 117, 223],\n",
       "        [ 14, 116, 224],\n",
       "        ...,\n",
       "        [ 62, 143, 232],\n",
       "        [ 61, 142, 231],\n",
       "        [ 56, 141, 231]],\n",
       "\n",
       "       [[  5, 116, 221],\n",
       "        [ 14, 119, 226],\n",
       "        [ 17, 118, 226],\n",
       "        ...,\n",
       "        [ 61, 142, 231],\n",
       "        [ 61, 142, 231],\n",
       "        [ 58, 142, 230]],\n",
       "\n",
       "       [[ 11, 116, 223],\n",
       "        [ 13, 115, 223],\n",
       "        [  4, 121, 224],\n",
       "        ...,\n",
       "        [ 55, 143, 230],\n",
       "        [ 55, 143, 230],\n",
       "        [ 58, 142, 230]]], dtype=uint8)"
      ]
     },
     "execution_count": 22,
     "metadata": {},
     "output_type": "execute_result"
    }
   ],
   "source": [
    "data['image']"
   ]
  },
  {
   "cell_type": "code",
   "execution_count": 23,
   "id": "bb34531e-dbab-4cfb-a4c6-d7a5400ba95a",
   "metadata": {},
   "outputs": [
    {
     "data": {
      "text/plain": [
       "array([[[  0,  98, 209],\n",
       "        [  1,  99, 210],\n",
       "        [  2, 100, 211],\n",
       "        ...,\n",
       "        [ 26, 120, 216],\n",
       "        [ 30, 118, 216],\n",
       "        [ 29, 117, 217]],\n",
       "\n",
       "       [[  2, 100, 211],\n",
       "        [  1,  99, 210],\n",
       "        [  2, 100, 211],\n",
       "        ...,\n",
       "        [ 36, 115, 216],\n",
       "        [ 32, 118, 217],\n",
       "        [ 31, 119, 217]],\n",
       "\n",
       "       [[  2, 100, 211],\n",
       "        [  1,  99, 210],\n",
       "        [  2, 100, 211],\n",
       "        ...,\n",
       "        [ 34, 118, 217],\n",
       "        [ 37, 115, 216],\n",
       "        [ 37, 115, 216]],\n",
       "\n",
       "       ...,\n",
       "\n",
       "       [[  3, 119, 222],\n",
       "        [ 10, 117, 223],\n",
       "        [ 14, 116, 224],\n",
       "        ...,\n",
       "        [ 62, 143, 232],\n",
       "        [ 61, 142, 231],\n",
       "        [ 56, 141, 231]],\n",
       "\n",
       "       [[  5, 116, 221],\n",
       "        [ 14, 119, 226],\n",
       "        [ 17, 118, 226],\n",
       "        ...,\n",
       "        [ 61, 142, 231],\n",
       "        [ 61, 142, 231],\n",
       "        [ 58, 142, 230]],\n",
       "\n",
       "       [[ 11, 116, 223],\n",
       "        [ 13, 115, 223],\n",
       "        [  4, 121, 224],\n",
       "        ...,\n",
       "        [ 55, 143, 230],\n",
       "        [ 55, 143, 230],\n",
       "        [ 58, 142, 230]]], dtype=uint8)"
      ]
     },
     "execution_count": 23,
     "metadata": {},
     "output_type": "execute_result"
    }
   ],
   "source": [
    "data['image']"
   ]
  },
  {
   "cell_type": "code",
   "execution_count": 26,
   "id": "4f0728cf-86f6-4870-be3b-05e219193135",
   "metadata": {},
   "outputs": [
    {
     "data": {
      "text/plain": [
       "array([[(array([[0.48033, 0.35267, 0.48947],\n",
       "               [0.52025, 0.35267, 0.48947],\n",
       "               [0.48624, 0.23079, 0.42297],\n",
       "               ...,\n",
       "               [0.45011, 0.524  , 0.40468],\n",
       "               [0.45011, 0.52339, 0.40326],\n",
       "               [0.45011, 0.52385, 0.40391]]), array([[    3,     4,     5],\n",
       "               [    3,     9,     4],\n",
       "               [   11,     3,     5],\n",
       "               ...,\n",
       "               [27377, 27389, 27391],\n",
       "               [27377, 27392, 27390],\n",
       "               [27377, 27391, 27392]], dtype=uint16))                      ]],\n",
       "      dtype=[('vertices', 'O'), ('faces', 'O')])"
      ]
     },
     "execution_count": 26,
     "metadata": {},
     "output_type": "execute_result"
    }
   ],
   "source": [
    "data['cad']"
   ]
  }
 ],
 "metadata": {
  "kernelspec": {
   "display_name": "vis",
   "language": "python",
   "name": "python3"
  },
  "language_info": {
   "codemirror_mode": {
    "name": "ipython",
    "version": 3
   },
   "file_extension": ".py",
   "mimetype": "text/x-python",
   "name": "python",
   "nbconvert_exporter": "python",
   "pygments_lexer": "ipython3",
   "version": "3.8.16"
  }
 },
 "nbformat": 4,
 "nbformat_minor": 5
}
