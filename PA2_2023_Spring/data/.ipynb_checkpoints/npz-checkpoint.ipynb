{
 "cells": [
  {
   "cell_type": "code",
   "execution_count": 1,
   "id": "78322e0a-d636-41d7-a006-2938fbbde90e",
   "metadata": {},
   "outputs": [],
   "source": [
    "import numpy as np\n",
    "import cv2 as cv\n",
    "import matplotlib.pyplot as plt\n"
   ]
  },
  {
   "cell_type": "code",
   "execution_count": 22,
   "id": "07a47f4b-f151-4980-9f70-74a4926f3f95",
   "metadata": {},
   "outputs": [],
   "source": [
    "data = np.load('pnp.npz')\n"
   ]
  },
  {
   "cell_type": "code",
   "execution_count": 23,
   "id": "5b3f94fe-60ed-49b3-b6f5-5d29b51cf035",
   "metadata": {},
   "outputs": [
    {
     "data": {
      "text/plain": [
       "['X', 'x', 'image', 'cad']"
      ]
     },
     "execution_count": 23,
     "metadata": {},
     "output_type": "execute_result"
    }
   ],
   "source": [
    "list(data.keys())\n"
   ]
  },
  {
   "cell_type": "code",
   "execution_count": 24,
   "id": "94315296-7d2a-4691-a7fa-d741d67eff86",
   "metadata": {},
   "outputs": [
    {
     "data": {
      "text/plain": [
       "array([[0.53466, 0.62524, 0.46763],\n",
       "       [0.47156, 0.69684, 0.45438],\n",
       "       [0.56539, 0.48465, 0.40735],\n",
       "       [0.50865, 0.15626, 0.46064],\n",
       "       [0.55276, 0.501  , 0.40614],\n",
       "       [0.46679, 0.29165, 0.47023],\n",
       "       [0.52903, 0.29933, 0.48075],\n",
       "       [0.47043, 0.64111, 0.47879],\n",
       "       [0.53064, 0.64012, 0.47779],\n",
       "       [0.53102, 0.64208, 0.47703],\n",
       "       [0.44289, 0.50633, 0.43151],\n",
       "       [0.43767, 0.48741, 0.40569],\n",
       "       [0.4734 , 0.26203, 0.48305],\n",
       "       [0.45023, 0.48864, 0.4075 ],\n",
       "       [0.56338, 0.48967, 0.40685],\n",
       "       [0.48698, 0.6502 , 0.49288],\n",
       "       [0.48034, 0.34843, 0.48948],\n",
       "       [0.50041, 0.83955, 0.59542],\n",
       "       [0.56237, 0.50242, 0.40379],\n",
       "       [0.53082, 0.64183, 0.47744],\n",
       "       [0.4736 , 0.36954, 0.48329],\n",
       "       [0.41211, 0.3798 , 0.42538],\n",
       "       [0.52726, 0.28018, 0.48294],\n",
       "       [0.53466, 0.35412, 0.46763],\n",
       "       [0.50137, 0.79369, 0.50769],\n",
       "       [0.50029, 0.80308, 0.48504],\n",
       "       [0.44316, 0.51412, 0.41137],\n",
       "       [0.46574, 0.32747, 0.46585],\n",
       "       [0.52027, 0.26899, 0.48945],\n",
       "       [0.47008, 0.64117, 0.47809]])"
      ]
     },
     "execution_count": 24,
     "metadata": {},
     "output_type": "execute_result"
    }
   ],
   "source": [
    "data['X']"
   ]
  },
  {
   "cell_type": "code",
   "execution_count": 25,
   "id": "6ea955a2-31c7-4a23-8324-84ed8c3dc091",
   "metadata": {},
   "outputs": [
    {
     "data": {
      "text/plain": [
       "array([[335.96868491, 167.95834902],\n",
       "       [357.99985296, 203.44801653],\n",
       "       [263.81871016, 158.09720843],\n",
       "       [111.34026702,  95.87828209],\n",
       "       [269.50739232, 165.00603413],\n",
       "       [168.12739087, 126.38535581],\n",
       "       [181.56539772, 106.67468328],\n",
       "       [333.8865341 , 183.6929241 ],\n",
       "       [344.04037006, 167.69313739],\n",
       "       [344.97271645, 168.25569802],\n",
       "       [258.1582958 , 185.18190878],\n",
       "       [244.82381374, 193.22852703],\n",
       "       [157.47424367, 114.71426437],\n",
       "       [247.58185916, 189.4893323 ],\n",
       "       [265.85096511, 159.76050803],\n",
       "       [343.24535082, 175.31192142],\n",
       "       [198.59544003, 125.06186908],\n",
       "       [454.82190596, 165.12974189],\n",
       "       [271.42548892, 163.58675876],\n",
       "       [344.8704378 , 168.09908203],\n",
       "       [206.45756863, 132.89039157],\n",
       "       [194.26990765, 173.11595583],\n",
       "       [172.85030432, 103.06549869],\n",
       "       [205.8377962 , 119.61078803],\n",
       "       [419.60383928, 192.03080226],\n",
       "       [421.02195041, 203.34315184],\n",
       "       [259.02080867, 194.40635233],\n",
       "       [183.61172463, 134.45884795],\n",
       "       [167.73611455, 100.61209171],\n",
       "       [333.75607431, 184.07563686]])"
      ]
     },
     "execution_count": 25,
     "metadata": {},
     "output_type": "execute_result"
    }
   ],
   "source": [
    "data['x']"
   ]
  },
  {
   "cell_type": "code",
   "execution_count": 26,
   "id": "5a348bcd-9808-437d-a7b4-5bcdff7253e6",
   "metadata": {},
   "outputs": [
    {
     "data": {
      "text/plain": [
       "array([[[  0,  98, 209],\n",
       "        [  1,  99, 210],\n",
       "        [  2, 100, 211],\n",
       "        ...,\n",
       "        [ 26, 120, 216],\n",
       "        [ 30, 118, 216],\n",
       "        [ 29, 117, 217]],\n",
       "\n",
       "       [[  2, 100, 211],\n",
       "        [  1,  99, 210],\n",
       "        [  2, 100, 211],\n",
       "        ...,\n",
       "        [ 36, 115, 216],\n",
       "        [ 32, 118, 217],\n",
       "        [ 31, 119, 217]],\n",
       "\n",
       "       [[  2, 100, 211],\n",
       "        [  1,  99, 210],\n",
       "        [  2, 100, 211],\n",
       "        ...,\n",
       "        [ 34, 118, 217],\n",
       "        [ 37, 115, 216],\n",
       "        [ 37, 115, 216]],\n",
       "\n",
       "       ...,\n",
       "\n",
       "       [[  3, 119, 222],\n",
       "        [ 10, 117, 223],\n",
       "        [ 14, 116, 224],\n",
       "        ...,\n",
       "        [ 62, 143, 232],\n",
       "        [ 61, 142, 231],\n",
       "        [ 56, 141, 231]],\n",
       "\n",
       "       [[  5, 116, 221],\n",
       "        [ 14, 119, 226],\n",
       "        [ 17, 118, 226],\n",
       "        ...,\n",
       "        [ 61, 142, 231],\n",
       "        [ 61, 142, 231],\n",
       "        [ 58, 142, 230]],\n",
       "\n",
       "       [[ 11, 116, 223],\n",
       "        [ 13, 115, 223],\n",
       "        [  4, 121, 224],\n",
       "        ...,\n",
       "        [ 55, 143, 230],\n",
       "        [ 55, 143, 230],\n",
       "        [ 58, 142, 230]]], dtype=uint8)"
      ]
     },
     "execution_count": 26,
     "metadata": {},
     "output_type": "execute_result"
    }
   ],
   "source": [
    "data['image']"
   ]
  },
  {
   "cell_type": "code",
   "execution_count": 30,
   "id": "bb34531e-dbab-4cfb-a4c6-d7a5400ba95a",
   "metadata": {},
   "outputs": [
    {
     "data": {
      "text/plain": [
       "array([[[  0,  98, 209],\n",
       "        [  1,  99, 210],\n",
       "        [  2, 100, 211],\n",
       "        ...,\n",
       "        [ 26, 120, 216],\n",
       "        [ 30, 118, 216],\n",
       "        [ 29, 117, 217]],\n",
       "\n",
       "       [[  2, 100, 211],\n",
       "        [  1,  99, 210],\n",
       "        [  2, 100, 211],\n",
       "        ...,\n",
       "        [ 36, 115, 216],\n",
       "        [ 32, 118, 217],\n",
       "        [ 31, 119, 217]],\n",
       "\n",
       "       [[  2, 100, 211],\n",
       "        [  1,  99, 210],\n",
       "        [  2, 100, 211],\n",
       "        ...,\n",
       "        [ 34, 118, 217],\n",
       "        [ 37, 115, 216],\n",
       "        [ 37, 115, 216]],\n",
       "\n",
       "       ...,\n",
       "\n",
       "       [[  3, 119, 222],\n",
       "        [ 10, 117, 223],\n",
       "        [ 14, 116, 224],\n",
       "        ...,\n",
       "        [ 62, 143, 232],\n",
       "        [ 61, 142, 231],\n",
       "        [ 56, 141, 231]],\n",
       "\n",
       "       [[  5, 116, 221],\n",
       "        [ 14, 119, 226],\n",
       "        [ 17, 118, 226],\n",
       "        ...,\n",
       "        [ 61, 142, 231],\n",
       "        [ 61, 142, 231],\n",
       "        [ 58, 142, 230]],\n",
       "\n",
       "       [[ 11, 116, 223],\n",
       "        [ 13, 115, 223],\n",
       "        [  4, 121, 224],\n",
       "        ...,\n",
       "        [ 55, 143, 230],\n",
       "        [ 55, 143, 230],\n",
       "        [ 58, 142, 230]]], dtype=uint8)"
      ]
     },
     "execution_count": 30,
     "metadata": {},
     "output_type": "execute_result"
    }
   ],
   "source": [
    "data['image']"
   ]
  },
  {
   "cell_type": "code",
   "execution_count": 4,
   "id": "2789ec90-703a-4aaf-98f5-fc78694c87fe",
   "metadata": {},
   "outputs": [
    {
     "ename": "AttributeError",
     "evalue": "module 'matplotlib' has no attribute 'plot'",
     "output_type": "error",
     "traceback": [
      "\u001b[0;31m---------------------------------------------------------------------------\u001b[0m",
      "\u001b[0;31mAttributeError\u001b[0m                            Traceback (most recent call last)",
      "Cell \u001b[0;32mIn[4], line 1\u001b[0m\n\u001b[0;32m----> 1\u001b[0m \u001b[43mplt\u001b[49m\u001b[38;5;241;43m.\u001b[39;49m\u001b[43mplot\u001b[49m(\u001b[38;5;124m'\u001b[39m\u001b[38;5;124mdata\u001b[39m\u001b[38;5;124m'\u001b[39m,data[\u001b[38;5;124m'\u001b[39m\u001b[38;5;124mimage\u001b[39m\u001b[38;5;124m'\u001b[39m])\n",
      "File \u001b[0;32m~/miniconda3/envs/dev/lib/python3.9/site-packages/matplotlib/_api/__init__.py:226\u001b[0m, in \u001b[0;36mcaching_module_getattr.<locals>.__getattr__\u001b[0;34m(name)\u001b[0m\n\u001b[1;32m    224\u001b[0m \u001b[38;5;28;01mif\u001b[39;00m name \u001b[38;5;129;01min\u001b[39;00m props:\n\u001b[1;32m    225\u001b[0m     \u001b[38;5;28;01mreturn\u001b[39;00m props[name]\u001b[38;5;241m.\u001b[39m\u001b[38;5;21m__get__\u001b[39m(instance)\n\u001b[0;32m--> 226\u001b[0m \u001b[38;5;28;01mraise\u001b[39;00m \u001b[38;5;167;01mAttributeError\u001b[39;00m(\n\u001b[1;32m    227\u001b[0m     \u001b[38;5;124mf\u001b[39m\u001b[38;5;124m\"\u001b[39m\u001b[38;5;124mmodule \u001b[39m\u001b[38;5;132;01m{\u001b[39;00m\u001b[38;5;28mcls\u001b[39m\u001b[38;5;241m.\u001b[39m\u001b[38;5;18m__module__\u001b[39m\u001b[38;5;132;01m!r}\u001b[39;00m\u001b[38;5;124m has no attribute \u001b[39m\u001b[38;5;132;01m{\u001b[39;00mname\u001b[38;5;132;01m!r}\u001b[39;00m\u001b[38;5;124m\"\u001b[39m)\n",
      "\u001b[0;31mAttributeError\u001b[0m: module 'matplotlib' has no attribute 'plot'"
     ]
    }
   ],
   "source": [
    "plt.plot('data',data['image'])"
   ]
  },
  {
   "cell_type": "code",
   "execution_count": 16,
   "id": "87001f57-c5d6-41d8-834b-5df253f6b940",
   "metadata": {},
   "outputs": [
    {
     "data": {
      "text/plain": [
       "['K1', 'K2']"
      ]
     },
     "execution_count": 16,
     "metadata": {},
     "output_type": "execute_result"
    }
   ],
   "source": [
    "data = np.load('intrinsics.npz')\n",
    "list(data.keys())"
   ]
  },
  {
   "cell_type": "code",
   "execution_count": 17,
   "id": "2accfdea-7e13-40e3-b077-864f12708c81",
   "metadata": {},
   "outputs": [
    {
     "data": {
      "text/plain": [
       "['pts1', 'pts2']"
      ]
     },
     "execution_count": 17,
     "metadata": {},
     "output_type": "execute_result"
    }
   ],
   "source": [
    "data = np.load('some_corresp.npz')\n",
    "list(data.keys())"
   ]
  },
  {
   "cell_type": "code",
   "execution_count": 18,
   "id": "9bb080ef-d214-4629-a6de-77a0bd535350",
   "metadata": {},
   "outputs": [
    {
     "data": {
      "text/plain": [
       "['pts1']"
      ]
     },
     "execution_count": 18,
     "metadata": {},
     "output_type": "execute_result"
    }
   ],
   "source": [
    "data = np.load('temple_coords.npz')\n",
    "list(data.keys())"
   ]
  },
  {
   "cell_type": "code",
   "execution_count": null,
   "id": "31e62901-0652-4dc1-bdbf-2838b58f2aef",
   "metadata": {},
   "outputs": [],
   "source": []
  }
 ],
 "metadata": {
  "kernelspec": {
   "display_name": "dev",
   "language": "python",
   "name": "dev"
  },
  "language_info": {
   "codemirror_mode": {
    "name": "ipython",
    "version": 3
   },
   "file_extension": ".py",
   "mimetype": "text/x-python",
   "name": "python",
   "nbconvert_exporter": "python",
   "pygments_lexer": "ipython3",
   "version": "3.9.16"
  }
 },
 "nbformat": 4,
 "nbformat_minor": 5
}
