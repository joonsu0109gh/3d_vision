{
 "cells": [
  {
   "cell_type": "code",
   "execution_count": 1,
   "id": "ebc4bf34-aa84-456e-af2c-9b9f8ccf0a23",
   "metadata": {},
   "outputs": [],
   "source": [
    "import numpy as np\n",
    "import cv2\n",
    "import skimage.io \n",
    "import skimage.color\n",
    "#Import necessary functions\n",
    "from planarH import computeH_ransac, compositeH, computeH_norm\n",
    "from matchPics import matchPics\n",
    "from matplotlib import pyplot as plt"
   ]
  },
  {
   "cell_type": "code",
   "execution_count": 2,
   "id": "78d80e63",
   "metadata": {},
   "outputs": [],
   "source": [
    "def loadVid(filename):\n",
    "    cap = cv2.VideoCapture(filename)\n",
    "    fps = cap.get(cv2.CAP_PROP_FPS)\n",
    "    print(fps)\n",
    "    frames = [] \n",
    "    while True:\n",
    "        ret, frame = cap.read()\n",
    "        if not ret:\n",
    "            break\n",
    "        frames.append(frame)\n",
    "    cap.release()\n",
    "\n",
    "    return frames"
   ]
  },
  {
   "cell_type": "code",
   "execution_count": 3,
   "id": "46219c6e-7c00-4003-8b46-fb3460a6fb73",
   "metadata": {},
   "outputs": [
    {
     "name": "stdout",
     "output_type": "stream",
     "text": [
      "30.0\n",
      "25.0\n"
     ]
    }
   ],
   "source": [
    "cv_cover = cv2.imread('../data/cv_cover.jpg') # (440, 350, 3)\n",
    "book_frames = loadVid(\"../data/book.mov\") # (480, 640) 641 frame\n",
    "ar_frames = loadVid(\"../data/ar_source.mov\") # (360, 640) 511 frame"
   ]
  },
  {
   "cell_type": "markdown",
   "id": "03704e08-63ed-494a-b67f-4827912d89fb",
   "metadata": {
    "jp-MarkdownHeadingCollapsed": true,
    "tags": []
   },
   "source": [
    "### Test"
   ]
  },
  {
   "cell_type": "markdown",
   "id": "1b45496f-644d-44d9-adb7-8e0b66be3907",
   "metadata": {},
   "source": [
    "## Code"
   ]
  },
  {
   "cell_type": "code",
   "execution_count": 4,
   "id": "308f3dfe",
   "metadata": {},
   "outputs": [],
   "source": [
    "from tqdm import tqdm\n",
    "import time"
   ]
  },
  {
   "cell_type": "code",
   "execution_count": 10,
   "id": "d6051849-ce53-4354-a8e1-018dca71f2e0",
   "metadata": {},
   "outputs": [
    {
     "name": "stderr",
     "output_type": "stream",
     "text": [
      "100%|██████████| 511/511 [01:23<00:00,  6.15it/s]\n"
     ]
    }
   ],
   "source": [
    "vid_frames = []\n",
    "\n",
    "for book_frame, ar_frame in zip(book_frames, tqdm(ar_frames)):\n",
    "\n",
    "    cropped_ar = ar_frame[44:316, 320-108 : 320+108]\n",
    "\n",
    "    orb = cv2.ORB_create(nfeatures=10000)\n",
    "\n",
    "    kp1, des1 = orb.detectAndCompute(cv_cover, None)\n",
    "    kp2, des2 = orb.detectAndCompute(book_frame, None)\n",
    "\n",
    "    bf = cv2.BFMatcher(cv2.NORM_HAMMING, crossCheck=True)\n",
    "\n",
    "    matches_cv = bf.match(des1, des2)\n",
    "\n",
    "    # Sort matches by distance\n",
    "    matches_cv = sorted(matches_cv, key=lambda x: x.distance)\n",
    "\n",
    "    num_matches = int(len(matches_cv) * 0.1)  # choose 10% of total matches\n",
    "    best_matches = matches_cv[:num_matches]\n",
    "\n",
    "    pts1_best = np.float32([kp1[m.queryIdx].pt for m in best_matches]).reshape(-1, 2)\n",
    "    pts2_best = np.float32([kp2[m.trainIdx].pt for m in best_matches]).reshape(-1, 2)\n",
    "\n",
    "    H2to1, inliers = computeH_ransac(pts2_best, pts1_best, 300, 2, adaptive = False)\n",
    "    \n",
    "    H2to1 = computeH_norm(pts2_best[inliers], pts1_best[inliers])\n",
    "    \n",
    "    h, w = book_frames[0].shape[:2]\n",
    "\n",
    "    cropped_ar = cv2.resize(cropped_ar, dsize=(cv_cover.shape[1], cv_cover.shape[0]), interpolation=cv2.INTER_AREA)\n",
    "\n",
    "    warped_cropped_ar = cv2.warpPerspective(cropped_ar, H2to1, (w, h))\n",
    "\n",
    "    result = compositeH(H2to1, cropped_ar, book_frame)\n",
    "\n",
    "    vid_frames.append(result)"
   ]
  },
  {
   "cell_type": "code",
   "execution_count": 12,
   "id": "79f43cb3",
   "metadata": {},
   "outputs": [],
   "source": [
    "def create_Video_io(imgList):\n",
    "    writer = imageio.get_writer('../result/ar_2.avi', fps=25)\n",
    "\n",
    "    for i in range(len(imgList)):\n",
    "        img = imgList[i]\n",
    "        writer.append_data(img)\n",
    "\n",
    "    writer.close()\n",
    "    \n",
    "    return 0"
   ]
  },
  {
   "cell_type": "code",
   "execution_count": 13,
   "id": "04ad6362",
   "metadata": {},
   "outputs": [
    {
     "data": {
      "text/plain": [
       "0"
      ]
     },
     "execution_count": 13,
     "metadata": {},
     "output_type": "execute_result"
    }
   ],
   "source": [
    "import imageio\n",
    "create_Video_io(vid_frames)"
   ]
  },
  {
   "cell_type": "code",
   "execution_count": null,
   "id": "81216ea5",
   "metadata": {},
   "outputs": [],
   "source": []
  }
 ],
 "metadata": {
  "kernelspec": {
   "display_name": "vis",
   "language": "python",
   "name": "python3"
  },
  "language_info": {
   "codemirror_mode": {
    "name": "ipython",
    "version": 3
   },
   "file_extension": ".py",
   "mimetype": "text/x-python",
   "name": "python",
   "nbconvert_exporter": "python",
   "pygments_lexer": "ipython3",
   "version": "3.8.16"
  }
 },
 "nbformat": 4,
 "nbformat_minor": 5
}
