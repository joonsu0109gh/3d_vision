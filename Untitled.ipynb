{
 "cells": [
  {
   "cell_type": "code",
   "execution_count": 1,
   "id": "1c9a682c-eb6e-4726-989b-570c8d40861d",
   "metadata": {},
   "outputs": [],
   "source": [
    "!git add ."
   ]
  },
  {
   "cell_type": "code",
   "execution_count": 2,
   "id": "58868baa-925b-487b-a296-5430711540b4",
   "metadata": {},
   "outputs": [
    {
     "name": "stdout",
     "output_type": "stream",
     "text": [
      "\n",
      "*** Please tell me who you are.\n",
      "\n",
      "Run\n",
      "\n",
      "  git config --global user.email \"you@example.com\"\n",
      "  git config --global user.name \"Your Name\"\n",
      "\n",
      "to set your account's default identity.\n",
      "Omit --global to set the identity only in this repository.\n",
      "\n",
      "fatal: unable to auto-detect email address (got 'root@e6ca7b82b9e4.(none)')\n"
     ]
    }
   ],
   "source": [
    "!git commit -m \"Q12\"\n"
   ]
  },
  {
   "cell_type": "code",
   "execution_count": 5,
   "id": "0a111e2e-141c-48f4-b834-17b30fc05aa2",
   "metadata": {},
   "outputs": [],
   "source": [
    "!git config --global user.email \"joonsu0109@gmail.com\""
   ]
  },
  {
   "cell_type": "code",
   "execution_count": 6,
   "id": "e33da165-7598-4791-a8cc-a10d760494be",
   "metadata": {},
   "outputs": [],
   "source": [
    "!git config --global user.name \"joonsu0109gh\""
   ]
  },
  {
   "cell_type": "code",
   "execution_count": 7,
   "id": "60c8bdea-4eab-4d7d-a080-441791334139",
   "metadata": {},
   "outputs": [
    {
     "name": "stdout",
     "output_type": "stream",
     "text": [
      "[main de00faa] Q12\n",
      " 34 files changed, 8238 insertions(+), 1491 deletions(-)\n",
      " create mode 100644 .ipynb_checkpoints/Untitled-checkpoint.ipynb\n",
      " create mode 100755 3DVision_PA1/data/.ipynb_checkpoints/hp_cover-checkpoint.jpg\n",
      " create mode 100644 3DVision_PA1/data/.ipynb_checkpoints/image1-checkpoint.png\n",
      " create mode 100644 3DVision_PA1/data/.ipynb_checkpoints/image2-checkpoint.png\n",
      " create mode 100644 3DVision_PA1/data/.ipynb_checkpoints/image3-checkpoint.png\n",
      " create mode 100644 3DVision_PA1/data/.ipynb_checkpoints/image4-checkpoint.png\n",
      " create mode 100755 3DVision_PA1/data/.ipynb_checkpoints/pano_left-checkpoint.jpg\n",
      " create mode 100755 3DVision_PA1/data/.ipynb_checkpoints/pano_right-checkpoint.jpg\n",
      " create mode 100644 3DVision_PA1/python/.ipynb_checkpoints/Test_Q10-checkpoint.ipynb\n",
      " create mode 100644 3DVision_PA1/python/.ipynb_checkpoints/Test_Q11-checkpoint.ipynb\n",
      " create mode 100644 3DVision_PA1/python/.ipynb_checkpoints/Test_Q12-checkpoint.ipynb\n",
      " rewrite 3DVision_PA1/python/.ipynb_checkpoints/Test_Q6-checkpoint.ipynb (90%)\n",
      " delete mode 100644 3DVision_PA1/python/.ipynb_checkpoints/Test_Q8-checkpoint.ipynb\n",
      " create mode 100644 3DVision_PA1/python/.ipynb_checkpoints/Test_Q8_Q9-Copy1-checkpoint.ipynb\n",
      " rewrite 3DVision_PA1/python/.ipynb_checkpoints/planarH-checkpoint.py (86%)\n",
      " mode change 100755 => 100644\n",
      " create mode 100644 3DVision_PA1/python/.ipynb_checkpoints/result-checkpoint.png\n",
      " create mode 100644 3DVision_PA1/python/Test_Q10.ipynb\n",
      " create mode 100644 3DVision_PA1/python/Test_Q11.ipynb\n",
      " create mode 100644 3DVision_PA1/python/Test_Q12.ipynb\n",
      " rewrite 3DVision_PA1/python/Test_Q6.ipynb (88%)\n",
      " delete mode 100644 3DVision_PA1/python/Test_Q8.ipynb\n",
      " create mode 100644 3DVision_PA1/python/Test_Q8_Q9-Copy1.ipynb\n",
      " rewrite 3DVision_PA1/python/__pycache__/helper.cpython-39.pyc (75%)\n",
      " create mode 100644 3DVision_PA1/python/__pycache__/planarH.cpython-39.pyc\n",
      " rewrite 3DVision_PA1/python/planarH.py (86%)\n",
      " mode change 100755 => 100644\n",
      " delete mode 100644 3DVision_PA1/python/rotated_cv_cover.jpg\n",
      " delete mode 100644 3DVision_PA1/python/warped_img2.png\n",
      " create mode 100644 3DVision_PA1/result/ar.avi\n",
      " create mode 100644 Untitled.ipynb\n"
     ]
    }
   ],
   "source": [
    "!git commit -m \"Q12\""
   ]
  },
  {
   "cell_type": "code",
   "execution_count": 10,
   "id": "9f98e7b1-ed60-4120-8645-683b8e5a242e",
   "metadata": {},
   "outputs": [
    {
     "name": "stdout",
     "output_type": "stream",
     "text": [
      "Dev Containers CLI: RPC pipe not configured. Message: {\"args\":[\"git-credential-helper\",\"get\"],\"stdin\":\"protocol=https\\nhost=github.com\\n\"}\n",
      "Dev Containers CLI: RPC pipe not configured. Message: {\"args\":[\"git-credential-helper\",\"get\"],\"stdin\":\"protocol=https\\nhost=github.com\\n\"}\n",
      "Username for 'https://github.com': ^C\n"
     ]
    }
   ],
   "source": [
    "!git push"
   ]
  },
  {
   "cell_type": "code",
   "execution_count": 11,
   "id": "017c9e88-aca1-4ec5-b2dd-c3b6d551b81c",
   "metadata": {},
   "outputs": [
    {
     "name": "stdout",
     "output_type": "stream",
     "text": [
      "/usr/bin/sh: 1: joonsu0109gh: not found\n"
     ]
    }
   ],
   "source": [
    "!joonsu0109gh"
   ]
  },
  {
   "cell_type": "code",
   "execution_count": null,
   "id": "4886e631-a437-4f26-9c7d-70cd2fec41cd",
   "metadata": {},
   "outputs": [],
   "source": []
  }
 ],
 "metadata": {
  "kernelspec": {
   "display_name": "dev",
   "language": "python",
   "name": "dev"
  },
  "language_info": {
   "codemirror_mode": {
    "name": "ipython",
    "version": 3
   },
   "file_extension": ".py",
   "mimetype": "text/x-python",
   "name": "python",
   "nbconvert_exporter": "python",
   "pygments_lexer": "ipython3",
   "version": "3.9.16"
  }
 },
 "nbformat": 4,
 "nbformat_minor": 5
}
